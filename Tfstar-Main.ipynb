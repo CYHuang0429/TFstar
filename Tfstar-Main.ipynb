{
  "nbformat": 4,
  "nbformat_minor": 0,
  "metadata": {
    "colab": {
      "provenance": [],
      "mount_file_id": "19GirRWSaxQs5x8zOcSDADYUpqgIxK0LL",
      "authorship_tag": "ABX9TyPKWrek/5T7amu+RZ5X3Loa",
      "include_colab_link": true
    },
    "kernelspec": {
      "name": "python3",
      "display_name": "Python 3"
    },
    "language_info": {
      "name": "python"
    },
    "gpuClass": "standard",
    "accelerator": "GPU"
  },
  "cells": [
    {
      "cell_type": "markdown",
      "metadata": {
        "id": "view-in-github",
        "colab_type": "text"
      },
      "source": [
        "<a href=\"https://colab.research.google.com/github/CYHuang0429/TFstar/blob/main/Tfstar-Main.ipynb\" target=\"_parent\"><img src=\"https://colab.research.google.com/assets/colab-badge.svg\" alt=\"Open In Colab\"/></a>"
      ]
    },
    {
      "cell_type": "code",
      "source": [
        "from google.colab import drive\n",
        "drive.mount('/content/drive')"
      ],
      "metadata": {
        "colab": {
          "base_uri": "https://localhost:8080/"
        },
        "id": "tH5Id4UKDpkq",
        "outputId": "b7d600e4-e5fe-4e6c-f220-51e761afe048"
      },
      "execution_count": null,
      "outputs": [
        {
          "output_type": "stream",
          "name": "stdout",
          "text": [
            "Drive already mounted at /content/drive; to attempt to forcibly remount, call drive.mount(\"/content/drive\", force_remount=True).\n"
          ]
        }
      ]
    },
    {
      "cell_type": "code",
      "source": [
        "import os\n",
        "print(os.getcwd())"
      ],
      "metadata": {
        "colab": {
          "base_uri": "https://localhost:8080/"
        },
        "id": "tasUK89gUhd8",
        "outputId": "6cde9c2d-30aa-4749-95b7-2d28f4139139"
      },
      "execution_count": null,
      "outputs": [
        {
          "output_type": "stream",
          "name": "stdout",
          "text": [
            "/content\n"
          ]
        }
      ]
    },
    {
      "cell_type": "code",
      "source": [
        "#key imports\n",
        "\n",
        "import tensorflow as tf\n",
        "from tensorflow.keras import datasets, layers, models\n",
        "from tensorflow.keras.preprocessing.image import ImageDataGenerator\n",
        "import numpy as np\n",
        "import matplotlib.pyplot as plt\n",
        "import cv2 as cv"
      ],
      "metadata": {
        "id": "K6TcDPz1Fafj"
      },
      "execution_count": null,
      "outputs": []
    },
    {
      "cell_type": "code",
      "source": [
        "#processing images\n",
        "import cv2 as cv\n",
        "import copy\n",
        "import numpy as np\n",
        "import os\n",
        "\n",
        "num = 1000\n",
        "\n",
        "cons = \"\"\n",
        "sub = \"\"\n",
        "\n",
        "working_directory = \"/content/drive/MyDrive/R/Virgo\"\n",
        "\n",
        "\n",
        "blank = np.zeros((1080, 1440, 1), dtype=np.uint8)\n",
        "\n",
        "class contourFinder:\n",
        "    def __init__(self) -> None:\n",
        "        cnt = 0     \n",
        "        self.__images = self.__imageReader()\n",
        "        for image in self.__images:\n",
        "          self.currimg = image\n",
        "          try:\n",
        "            cnt += 1\n",
        "            dir = \"/content/drive/MyDrive/Train/Virgo/processed-\" + str(cnt) + \".png\"\n",
        "            self.__preProcessing(image)\n",
        "            self.findContours(100, 300)\n",
        "            cv.imwrite(dir, self.clone)\n",
        "          except ZeroDivisionError:\n",
        "            print(\"error\")\n",
        "            continue\n",
        "          except KeyboardInterrupt:\n",
        "            break\n",
        "\n",
        "    def __imageReader(self, folder = working_directory):\n",
        "        images = []\n",
        "        for filename in os.listdir(folder):\n",
        "          img = cv.imread(os.path.join(folder, filename))\n",
        "          if img is not None:\n",
        "            images.append(img)\n",
        "        return images\n",
        "\n",
        "\n",
        "    def __preProcessing(self, image):\n",
        "        self.__gray = cv.cvtColor(image, cv.COLOR_BGR2GRAY)\n",
        "        self.__blurred = cv.GaussianBlur(self.__gray, (5, 5), 1)\n",
        "\n",
        "    def __sharpenImage(self):\n",
        "        __kernel = np.array([[-1,-1,-1],\n",
        "                   [-1, 9,-1],\n",
        "                   [-1,-1,-1]])\n",
        "        self.__sharpened = cv.filter2D(self.__image, -1, __kernel)\n",
        "\n",
        "        return self.__sharpened\n",
        "\n",
        "    def findContours(self, t1, t2):\n",
        "        tmp = self.__blurred\n",
        "\n",
        "        self.__canneyed = cv.Canny(tmp, t1, t2)\n",
        "        (self.cnts, _) = cv.findContours(self.__canneyed, cv.RETR_LIST, cv.CHAIN_APPROX_SIMPLE)\n",
        "        self.clone = copy.deepcopy(blank)\n",
        "\n",
        "        for c in self.cnts:\n",
        "            M = cv.moments(c)\n",
        "\n",
        "            if M[\"m00\"] != 0:\n",
        "              cX, cY = (int(M[\"m10\"]/M[\"m00\"]), int(M[\"m01\"]/M[\"m00\"]))\n",
        "            else: cX, cY = 0, 0\n",
        "\n",
        "            cv.circle(self.clone, (cX, cY), 3, (255, 255, 255), -1)\n",
        "\n",
        "if __name__ == \"__main__\":\n",
        "    image = contourFinder()"
      ],
      "metadata": {
        "id": "-85BGU2ESclr"
      },
      "execution_count": null,
      "outputs": []
    },
    {
      "cell_type": "code",
      "source": [
        "#creating custom dataset from directory\n",
        "\n",
        "h, w = 1080, 1440\n",
        "\n",
        "ds_train = tf.keras.preprocessing.image_dataset_from_directory(\n",
        "    \"/content/drive/MyDrive/Train\",\n",
        "    labels = \"inferred\",\n",
        "    label_mode = \"int\",\n",
        "    color_mode = \"grayscale\",\n",
        "    batch_size = 20,\n",
        "    image_size = (h, w),\n",
        "    shuffle = True,\n",
        "    seed = 123,\n",
        "    validation_split = 0.1,\n",
        "    subset = \"training\"\n",
        ")\n",
        "\n",
        "ds_validation = tf.keras.preprocessing.image_dataset_from_directory(\n",
        "    \"/content/drive/MyDrive/Train\",\n",
        "    labels = \"inferred\",\n",
        "    label_mode = \"int\",\n",
        "    color_mode = \"grayscale\",\n",
        "    batch_size = 20,\n",
        "    image_size = (h, w),\n",
        "    shuffle = True,\n",
        "    seed = 123,\n",
        "    validation_split = 0.1,\n",
        "    subset = \"validation\"\n",
        ")"
      ],
      "metadata": {
        "id": "YzJaHg4VFeda",
        "colab": {
          "base_uri": "https://localhost:8080/"
        },
        "outputId": "4318c917-cbbc-45a7-86d9-41eea9226ab7"
      },
      "execution_count": null,
      "outputs": [
        {
          "output_type": "stream",
          "name": "stdout",
          "text": [
            "Found 240 files belonging to 12 classes.\n",
            "Using 216 files for training.\n",
            "Found 240 files belonging to 12 classes.\n",
            "Using 24 files for validation.\n"
          ]
        }
      ]
    },
    {
      "cell_type": "code",
      "source": [
        "#preprocessing and classifier\n",
        "IMG_SIZE = 600 # All images will be resized to 800x800\n",
        "\n",
        "def format_example(image, label):\n",
        "  \"\"\"\n",
        "  returns an image that is reshaped to IMG_SIZE\n",
        "  \"\"\"\n",
        "  image = tf.cast(image, tf.float32)\n",
        "  image = (image/127.5) - 1\n",
        "  image = tf.image.resize(image, (IMG_SIZE, IMG_SIZE))\n",
        "  return image, label\n",
        "\n",
        "def normalize(image,label):\n",
        "    image = tf.cast(image/255. ,tf.float32)\n",
        "    return image, label\n",
        "\n",
        "ds_train = ds_train.map(format_example)\n",
        "ds_validation = ds_validation.map(format_example)\n",
        "\n",
        "#calssifier\n",
        "classname = [\"Aquarius\", \"Aries\", \"Cancer\", \"Capricorn\", \"Gemini\", \"Leo\", \"Libra\", \"Pisces\", \"Sagittarius\", \"Scorpio\", \"Taurus\", \"Virgo\"]"
      ],
      "metadata": {
        "id": "hyFsdNTbG2Sc"
      },
      "execution_count": null,
      "outputs": []
    },
    {
      "cell_type": "code",
      "source": [
        "#convolutional layers\n",
        "model = models.Sequential()\n",
        "model.add(layers.Conv2D(32, (3, 3), activation='relu', input_shape=(600, 600, 1)))\n",
        "model.add(layers.MaxPooling2D((2, 2)))\n",
        "model.add(layers.Conv2D(64, (3, 3), activation='relu'))\n",
        "model.add(layers.MaxPooling2D((2, 2)))\n",
        "model.add(layers.Conv2D(64, (3, 3), activation='relu'))\n",
        "model.add(layers.MaxPooling2D((2, 2)))\n",
        "model.add(layers.Conv2D(128, (3, 3), activation='relu'))"
      ],
      "metadata": {
        "id": "TFRKO7zTHFP7"
      },
      "execution_count": null,
      "outputs": []
    },
    {
      "cell_type": "code",
      "source": [
        "#dense neural network\n",
        "model.add(layers.Flatten())\n",
        "model.add(layers.Dense(128, activation='relu'))\n",
        "model.add(layers.Dense(12))"
      ],
      "metadata": {
        "id": "43mNf-WlHGCD"
      },
      "execution_count": null,
      "outputs": []
    },
    {
      "cell_type": "code",
      "source": [
        "model.summary()"
      ],
      "metadata": {
        "colab": {
          "base_uri": "https://localhost:8080/"
        },
        "id": "w_teJV8CHdEh",
        "outputId": "bf155de7-4deb-4a8a-df81-b1574123be8c"
      },
      "execution_count": null,
      "outputs": [
        {
          "output_type": "stream",
          "name": "stdout",
          "text": [
            "Model: \"sequential\"\n",
            "_________________________________________________________________\n",
            " Layer (type)                Output Shape              Param #   \n",
            "=================================================================\n",
            " conv2d (Conv2D)             (None, 598, 598, 32)      320       \n",
            "                                                                 \n",
            " max_pooling2d (MaxPooling2D  (None, 299, 299, 32)     0         \n",
            " )                                                               \n",
            "                                                                 \n",
            " conv2d_1 (Conv2D)           (None, 297, 297, 64)      18496     \n",
            "                                                                 \n",
            " max_pooling2d_1 (MaxPooling  (None, 148, 148, 64)     0         \n",
            " 2D)                                                             \n",
            "                                                                 \n",
            " conv2d_2 (Conv2D)           (None, 146, 146, 64)      36928     \n",
            "                                                                 \n",
            " max_pooling2d_2 (MaxPooling  (None, 73, 73, 64)       0         \n",
            " 2D)                                                             \n",
            "                                                                 \n",
            " conv2d_3 (Conv2D)           (None, 71, 71, 128)       73856     \n",
            "                                                                 \n",
            " flatten (Flatten)           (None, 645248)            0         \n",
            "                                                                 \n",
            " dense (Dense)               (None, 128)               82591872  \n",
            "                                                                 \n",
            " dense_1 (Dense)             (None, 12)                1548      \n",
            "                                                                 \n",
            "=================================================================\n",
            "Total params: 82,723,020\n",
            "Trainable params: 82,723,020\n",
            "Non-trainable params: 0\n",
            "_________________________________________________________________\n"
          ]
        }
      ]
    },
    {
      "cell_type": "code",
      "source": [
        "#training model\n",
        "model.compile(optimizer='adam',\n",
        "              loss=tf.keras.losses.SparseCategoricalCrossentropy(from_logits=True),\n",
        "              metrics=['accuracy'])\n",
        "\n",
        "history = model.fit(ds_train, epochs=5, validation_data=(ds_validation))"
      ],
      "metadata": {
        "id": "9ziwRjDJHHUj",
        "colab": {
          "base_uri": "https://localhost:8080/"
        },
        "outputId": "786a5b80-6270-4ba3-dc8f-7ecaf10d31b9"
      },
      "execution_count": null,
      "outputs": [
        {
          "output_type": "stream",
          "name": "stdout",
          "text": [
            "Epoch 1/5\n",
            "11/11 [==============================] - 12s 488ms/step - loss: 4.7106 - accuracy: 0.2269 - val_loss: 2.0058 - val_accuracy: 0.2917\n",
            "Epoch 2/5\n",
            "11/11 [==============================] - 4s 256ms/step - loss: 0.7960 - accuracy: 0.7778 - val_loss: 0.9355 - val_accuracy: 0.7917\n",
            "Epoch 3/5\n",
            "11/11 [==============================] - 4s 258ms/step - loss: 0.0497 - accuracy: 0.9861 - val_loss: 1.8435 - val_accuracy: 0.7917\n",
            "Epoch 4/5\n",
            "11/11 [==============================] - 4s 251ms/step - loss: 3.6430e-04 - accuracy: 1.0000 - val_loss: 4.1786 - val_accuracy: 0.7500\n",
            "Epoch 5/5\n",
            "11/11 [==============================] - 4s 251ms/step - loss: 0.0057 - accuracy: 0.9954 - val_loss: 1.8343 - val_accuracy: 0.7917\n"
          ]
        }
      ]
    },
    {
      "cell_type": "code",
      "source": [
        "#evaluating model\n",
        "test_loss, test_acc = model.evaluate(ds_validation, verbose=2)\n",
        "print(test_acc)"
      ],
      "metadata": {
        "id": "ZuilcRSlHLjT",
        "colab": {
          "base_uri": "https://localhost:8080/"
        },
        "outputId": "8cbcb9db-7144-491b-d183-0a12ff71303c"
      },
      "execution_count": null,
      "outputs": [
        {
          "output_type": "stream",
          "name": "stdout",
          "text": [
            "2/2 - 0s - loss: 1.8343 - accuracy: 0.7917 - 380ms/epoch - 190ms/step\n",
            "0.7916666865348816\n"
          ]
        }
      ]
    },
    {
      "cell_type": "code",
      "source": [
        "predictions = model.predict(ds_validation)\n",
        "predictions[0]"
      ],
      "metadata": {
        "id": "1WgcfusA4pgj",
        "colab": {
          "base_uri": "https://localhost:8080/"
        },
        "outputId": "112b660c-6075-46dc-c8ea-73608878ff06"
      },
      "execution_count": null,
      "outputs": [
        {
          "output_type": "stream",
          "name": "stdout",
          "text": [
            "2/2 [==============================] - 0s 96ms/step\n"
          ]
        },
        {
          "output_type": "execute_result",
          "data": {
            "text/plain": [
              "array([-15.683915 , -12.612669 ,  -5.518578 ,  -5.9753203,  30.085014 ,\n",
              "        11.645148 ,  -6.004725 ,   6.9741545, -12.955743 ,   9.963824 ,\n",
              "        -6.4964857,  -1.1616888], dtype=float32)"
            ]
          },
          "metadata": {},
          "execution_count": 9
        }
      ]
    }
  ]
}