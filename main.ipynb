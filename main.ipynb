{
  "nbformat": 4,
  "nbformat_minor": 0,
  "metadata": {
    "colab": {
      "provenance": [],
      "mount_file_id": "19GirRWSaxQs5x8zOcSDADYUpqgIxK0LL",
      "authorship_tag": "ABX9TyNc2CMAdLsUH0t6et6fwOea"
    },
    "kernelspec": {
      "name": "python3",
      "display_name": "Python 3"
    },
    "language_info": {
      "name": "python"
    },
    "gpuClass": "standard",
    "accelerator": "GPU"
  },
  "cells": [
    {
      "cell_type": "code",
      "source": [
        "from google.colab import drive\n",
        "drive.mount('/content/drive')"
      ],
      "metadata": {
        "colab": {
          "base_uri": "https://localhost:8080/"
        },
        "id": "tH5Id4UKDpkq",
        "outputId": "14a643a2-2794-4b56-c7b4-df728f122bd4"
      },
      "execution_count": null,
      "outputs": [
        {
          "output_type": "stream",
          "name": "stdout",
          "text": [
            "Drive already mounted at /content/drive; to attempt to forcibly remount, call drive.mount(\"/content/drive\", force_remount=True).\n"
          ]
        }
      ]
    },
    {
      "cell_type": "code",
      "source": [
        "import os\n",
        "print(os.getcwd())"
      ],
      "metadata": {
        "colab": {
          "base_uri": "https://localhost:8080/"
        },
        "id": "tasUK89gUhd8",
        "outputId": "df21cc1c-0223-4662-f995-b8092270f9d8"
      },
      "execution_count": null,
      "outputs": [
        {
          "output_type": "stream",
          "name": "stdout",
          "text": [
            "/content\n"
          ]
        }
      ]
    },
    {
      "cell_type": "code",
      "source": [
        "#key imports\n",
        "\n",
        "import tensorflow as tf\n",
        "from tensorflow.keras import datasets, layers, models\n",
        "from tensorflow.keras.preprocessing.image import ImageDataGenerator\n",
        "import numpy as np\n",
        "import matplotlib.pyplot as plt\n",
        "import cv2 as cv"
      ],
      "metadata": {
        "id": "K6TcDPz1Fafj"
      },
      "execution_count": null,
      "outputs": []
    },
    {
      "cell_type": "code",
      "source": [
        "#processing images\n",
        "import cv2 as cv\n",
        "import copy\n",
        "import numpy as np\n",
        "import os\n",
        "\n",
        "num = 1000\n",
        "\n",
        "cons = \"\"\n",
        "sub = \"\"\n",
        "\n",
        "working_directory = \"/content/drive/MyDrive/Predict\"\n",
        "\n",
        "\n",
        "blank = np.zeros((1080, 1920, 1), dtype=np.uint8)\n",
        "\n",
        "class contourFinder:\n",
        "    def __init__(self) -> None:\n",
        "        cnt = 0     \n",
        "        self.__images = self.__imageReader()\n",
        "        for image in self.__images:\n",
        "          self.currimg = image\n",
        "          try:\n",
        "            cnt += 1\n",
        "            dir = \"/content/drive/MyDrive/Predict/processed-\" + str(cnt) + \".png\"\n",
        "            self.__preProcessing(image)\n",
        "            self.findContours(100, 300)\n",
        "            cv.imwrite(dir, self.clone)\n",
        "          except ZeroDivisionError:\n",
        "            print(\"error\")\n",
        "            continue\n",
        "          except KeyboardInterrupt:\n",
        "            break\n",
        "\n",
        "    def __imageReader(self, folder = working_directory):\n",
        "        images = []\n",
        "        for filename in os.listdir(folder):\n",
        "          img = cv.imread(os.path.join(folder, filename))\n",
        "          if img is not None:\n",
        "            images.append(img)\n",
        "        return images\n",
        "\n",
        "\n",
        "    def __preProcessing(self, image):\n",
        "        self.__gray = cv.cvtColor(image, cv.COLOR_BGR2GRAY)\n",
        "        self.__blurred = cv.GaussianBlur(self.__gray, (5, 5), 1)\n",
        "\n",
        "    def __sharpenImage(self):\n",
        "        __kernel = np.array([[-1,-1,-1],\n",
        "                   [-1, 9,-1],\n",
        "                   [-1,-1,-1]])\n",
        "        self.__sharpened = cv.filter2D(self.__image, -1, __kernel)\n",
        "\n",
        "        return self.__sharpened\n",
        "\n",
        "    def findContours(self, t1, t2):\n",
        "        tmp = self.__blurred\n",
        "\n",
        "        self.__canneyed = cv.Canny(tmp, t1, t2)\n",
        "        (self.cnts, _) = cv.findContours(self.__canneyed, cv.RETR_LIST, cv.CHAIN_APPROX_SIMPLE)\n",
        "        self.clone = copy.deepcopy(blank)\n",
        "\n",
        "        for c in self.cnts:\n",
        "            M = cv.moments(c)\n",
        "\n",
        "            if M[\"m00\"] != 0:\n",
        "              cX, cY = (int(M[\"m10\"]/M[\"m00\"]), int(M[\"m01\"]/M[\"m00\"]))\n",
        "            else: cX, cY = 0, 0\n",
        "\n",
        "            cv.circle(self.clone, (cX, cY), 3, (255, 255, 255), -1)\n",
        "\n",
        "if __name__ == \"__main__\":\n",
        "    image = contourFinder()"
      ],
      "metadata": {
        "id": "-85BGU2ESclr"
      },
      "execution_count": null,
      "outputs": []
    },
    {
      "cell_type": "code",
      "source": [
        "#creating custom dataset from directory\n",
        "\n",
        "h, w = 1080, 1920\n",
        "\n",
        "ds_train = tf.keras.preprocessing.image_dataset_from_directory(\n",
        "    \"/content/drive/MyDrive/Train\",\n",
        "    labels = \"inferred\",\n",
        "    label_mode = \"int\",\n",
        "    color_mode = \"grayscale\",\n",
        "    batch_size = 20,\n",
        "    image_size = (h, w),\n",
        "    shuffle = True,\n",
        "    seed = 123,\n",
        "    validation_split = 0.1,\n",
        "    subset = \"training\"\n",
        ")\n",
        "\n",
        "ds_validation = tf.keras.preprocessing.image_dataset_from_directory(\n",
        "    \"/content/drive/MyDrive/Train\",\n",
        "    labels = \"inferred\",\n",
        "    label_mode = \"int\",\n",
        "    color_mode = \"grayscale\",\n",
        "    batch_size = 20,\n",
        "    image_size = (h, w),\n",
        "    shuffle = True,\n",
        "    seed = 123,\n",
        "    validation_split = 0.1,\n",
        "    subset = \"validation\"\n",
        ")"
      ],
      "metadata": {
        "id": "YzJaHg4VFeda",
        "colab": {
          "base_uri": "https://localhost:8080/"
        },
        "outputId": "7e5581c9-4da8-41cd-b333-822e68fd64b7"
      },
      "execution_count": null,
      "outputs": [
        {
          "output_type": "stream",
          "name": "stdout",
          "text": [
            "Found 240 files belonging to 12 classes.\n",
            "Using 216 files for training.\n",
            "Found 240 files belonging to 12 classes.\n",
            "Using 24 files for validation.\n"
          ]
        }
      ]
    },
    {
      "cell_type": "code",
      "source": [
        "#preprocessing and classifier\n",
        "IMG_SIZE = 600 # All images will be resized to 800x800\n",
        "\n",
        "def format_example(image, label):\n",
        "  \"\"\"\n",
        "  returns an image that is reshaped to IMG_SIZE\n",
        "  \"\"\"\n",
        "  image = tf.cast(image, tf.float32)\n",
        "  image = (image/127.5) - 1\n",
        "  image = tf.image.resize(image, (IMG_SIZE, IMG_SIZE))\n",
        "  return image, label\n",
        "\n",
        "def normalize(image,label):\n",
        "    image = tf.cast(image/255. ,tf.float32)\n",
        "    return image, label\n",
        "\n",
        "ds_train = ds_train.map(format_example)\n",
        "ds_validation = ds_validation.map(format_example)\n",
        "\n",
        "#calssifier\n",
        "classname = [\"Aquarius\", \"Aries\", \"Cancer\", \"Capricorn\", \"Gemini\", \"Leo\", \"Libra\", \"Pisces\", \"Sagittarius\", \"Scorpio\", \"Taurus\", \"Virgo\"]"
      ],
      "metadata": {
        "id": "hyFsdNTbG2Sc"
      },
      "execution_count": null,
      "outputs": []
    },
    {
      "cell_type": "code",
      "source": [
        "#convolutional layers\n",
        "model = models.Sequential()\n",
        "model.add(layers.Conv2D(32, (3, 3), activation='relu', input_shape=(600, 600, 1)))\n",
        "model.add(layers.MaxPooling2D((2, 2)))\n",
        "model.add(layers.Conv2D(64, (3, 3), activation='relu'))\n",
        "model.add(layers.MaxPooling2D((2, 2)))\n",
        "model.add(layers.Conv2D(64, (3, 3), activation='relu'))\n",
        "model.add(layers.MaxPooling2D((2, 2)))\n",
        "model.add(layers.Conv2D(128, (3, 3), activation='relu'))"
      ],
      "metadata": {
        "id": "TFRKO7zTHFP7"
      },
      "execution_count": null,
      "outputs": []
    },
    {
      "cell_type": "code",
      "source": [
        "#dense neural network\n",
        "model.add(layers.Flatten())\n",
        "model.add(layers.Dense(128, activation='relu'))\n",
        "model.add(layers.Dense(12))"
      ],
      "metadata": {
        "id": "43mNf-WlHGCD"
      },
      "execution_count": null,
      "outputs": []
    },
    {
      "cell_type": "code",
      "source": [
        "model.summary()"
      ],
      "metadata": {
        "colab": {
          "base_uri": "https://localhost:8080/"
        },
        "id": "w_teJV8CHdEh",
        "outputId": "07cece79-ba4c-46e9-a032-f8e407a26c86"
      },
      "execution_count": null,
      "outputs": [
        {
          "output_type": "stream",
          "name": "stdout",
          "text": [
            "Model: \"sequential\"\n",
            "_________________________________________________________________\n",
            " Layer (type)                Output Shape              Param #   \n",
            "=================================================================\n",
            " conv2d (Conv2D)             (None, 598, 598, 32)      320       \n",
            "                                                                 \n",
            " max_pooling2d (MaxPooling2D  (None, 299, 299, 32)     0         \n",
            " )                                                               \n",
            "                                                                 \n",
            " conv2d_1 (Conv2D)           (None, 297, 297, 64)      18496     \n",
            "                                                                 \n",
            " max_pooling2d_1 (MaxPooling  (None, 148, 148, 64)     0         \n",
            " 2D)                                                             \n",
            "                                                                 \n",
            " conv2d_2 (Conv2D)           (None, 146, 146, 64)      36928     \n",
            "                                                                 \n",
            " max_pooling2d_2 (MaxPooling  (None, 73, 73, 64)       0         \n",
            " 2D)                                                             \n",
            "                                                                 \n",
            " conv2d_3 (Conv2D)           (None, 71, 71, 128)       73856     \n",
            "                                                                 \n",
            " flatten (Flatten)           (None, 645248)            0         \n",
            "                                                                 \n",
            " dense (Dense)               (None, 128)               82591872  \n",
            "                                                                 \n",
            " dense_1 (Dense)             (None, 12)                1548      \n",
            "                                                                 \n",
            "=================================================================\n",
            "Total params: 82,723,020\n",
            "Trainable params: 82,723,020\n",
            "Non-trainable params: 0\n",
            "_________________________________________________________________\n"
          ]
        }
      ]
    },
    {
      "cell_type": "code",
      "source": [
        "#training model\n",
        "model.compile(optimizer='adam',\n",
        "       loss=tf.keras.losses.SparseCategoricalCrossentropy(from_logits=True),\n",
        "       metrics=['accuracy'])\n",
        "\n",
        "history = model.fit(ds_train, epochs=3, validation_data=(ds_validation))"
      ],
      "metadata": {
        "id": "9ziwRjDJHHUj",
        "colab": {
          "base_uri": "https://localhost:8080/"
        },
        "outputId": "7a8988b8-e957-4c7a-a4c7-c4b233907bce"
      },
      "execution_count": null,
      "outputs": [
        {
          "output_type": "stream",
          "name": "stdout",
          "text": [
            "Epoch 1/3\n",
            "11/11 [==============================] - 12s 486ms/step - loss: 6.8808 - accuracy: 0.1065 - val_loss: 2.3875 - val_accuracy: 0.3333\n",
            "Epoch 2/3\n",
            "11/11 [==============================] - 4s 266ms/step - loss: 2.0014 - accuracy: 0.3889 - val_loss: 1.1162 - val_accuracy: 0.6667\n",
            "Epoch 3/3\n",
            "11/11 [==============================] - 4s 266ms/step - loss: 0.6494 - accuracy: 0.8148 - val_loss: 0.6928 - val_accuracy: 0.7917\n"
          ]
        }
      ]
    },
    {
      "cell_type": "code",
      "source": [
        "#evaluating model\n",
        "test_loss, test_acc = model.evaluate(ds_validation, verbose=2)\n",
        "print(test_acc)"
      ],
      "metadata": {
        "id": "ZuilcRSlHLjT",
        "colab": {
          "base_uri": "https://localhost:8080/"
        },
        "outputId": "e445fa81-b068-4e35-9bfa-29cb4ca86047"
      },
      "execution_count": null,
      "outputs": [
        {
          "output_type": "stream",
          "name": "stdout",
          "text": [
            "2/2 - 0s - loss: 0.6928 - accuracy: 0.7917 - 440ms/epoch - 220ms/step\n",
            "0.7916666865348816\n"
          ]
        }
      ]
    },
    {
      "cell_type": "code",
      "source": [
        "import os\n",
        "import numpy as np\n",
        "import matplotlib.pyplot as plt\n",
        "import matplotlib.image as mpimg\n",
        "\n",
        "def imageReader(folder):\n",
        "  images = []\n",
        "  for filename in os.listdir(folder):\n",
        "    img = cv.imread(os.path.join(folder, filename))\n",
        "    if img is not None:\n",
        "      images.append(img)\n",
        "  return images\n",
        "\n",
        "image = imageReader(folder=\"/content/drive/MyDrive/Predict\")\n",
        "\n",
        "for e in image:\n",
        "  e = (e/127.5) - 1\n",
        "image = tf.image.resize(image, (600, 600))\n",
        "\n",
        "def rgb2gray(rgb):\n",
        "    return np.dot(rgb[...,:3], [0.2989, 0.5870, 0.1140])     \n",
        "\n",
        "gray = rgb2gray(image) \n",
        "\n",
        "\n",
        "predictions = model.predict([gray])\n",
        "tmp = predictions[0]\n",
        "print(tmp)\n",
        "index = 0\n",
        "for i in range(len(tmp)):\n",
        "  max = 0\n",
        "  if tmp[i] > max:\n",
        "    index = i\n",
        "print(classname[i])"
      ],
      "metadata": {
        "colab": {
          "base_uri": "https://localhost:8080/"
        },
        "id": "wKNu6AtCg7ux",
        "outputId": "ad0358ed-5d29-4a0f-c1cd-84d8610d31d4"
      },
      "execution_count": null,
      "outputs": [
        {
          "output_type": "stream",
          "name": "stdout",
          "text": [
            "1/1 [==============================] - 0s 21ms/step\n",
            "[-1000.02466   169.16464  3354.679    1397.5154   -252.59311  1262.6085\n",
            "  1607.1628   2091.1477    868.262   -1215.1125    253.0615   2476.9114 ]\n",
            "Virgo\n"
          ]
        }
      ]
    },
    {
      "cell_type": "code",
      "source": [
        "predictions = model.predict(ds_validation)\n",
        "predictions[0]"
      ],
      "metadata": {
        "id": "1WgcfusA4pgj",
        "colab": {
          "base_uri": "https://localhost:8080/"
        },
        "outputId": "73cdd1db-9d24-4fd5-e525-074f84dac2ea"
      },
      "execution_count": null,
      "outputs": [
        {
          "output_type": "stream",
          "name": "stdout",
          "text": [
            "2/2 [==============================] - 0s 96ms/step\n"
          ]
        },
        {
          "output_type": "execute_result",
          "data": {
            "text/plain": [
              "array([-6.5663805 , -0.01828386, -2.1347504 , -2.6848733 ,  9.687871  ,\n",
              "        3.800414  ,  2.8288617 , -0.9208708 ,  0.68489784,  2.5550249 ,\n",
              "        3.0461142 ,  0.24904545], dtype=float32)"
            ]
          },
          "metadata": {},
          "execution_count": 14
        }
      ]
    }
  ]
}